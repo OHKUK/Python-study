{
 "cells": [
  {
   "cell_type": "code",
   "execution_count": 1,
   "id": "84a7d487-87d9-4f7a-9c76-b542ec114afd",
   "metadata": {},
   "outputs": [
    {
     "name": "stdout",
     "output_type": "stream",
     "text": [
      "Requirement already satisfied: requests in c:\\users\\user\\anaconda3\\lib\\site-packages (2.32.3)\n",
      "Requirement already satisfied: charset-normalizer<4,>=2 in c:\\users\\user\\anaconda3\\lib\\site-packages (from requests) (3.3.2)\n",
      "Requirement already satisfied: idna<4,>=2.5 in c:\\users\\user\\anaconda3\\lib\\site-packages (from requests) (3.7)\n",
      "Requirement already satisfied: urllib3<3,>=1.21.1 in c:\\users\\user\\anaconda3\\lib\\site-packages (from requests) (2.2.3)\n",
      "Requirement already satisfied: certifi>=2017.4.17 in c:\\users\\user\\anaconda3\\lib\\site-packages (from requests) (2024.12.14)\n"
     ]
    }
   ],
   "source": [
    "!pip install requests"
   ]
  },
  {
   "cell_type": "code",
   "execution_count": 3,
   "id": "693cca80-7a1e-4197-aab7-7b57a4776b90",
   "metadata": {},
   "outputs": [
    {
     "name": "stdout",
     "output_type": "stream",
     "text": [
      "날씨 정보 가져오기 실패:  \n",
      "{}\n"
     ]
    }
   ],
   "source": [
    "import requests\n",
    "import json\n",
    "import datetime\n",
    "\n",
    "vilage_weather_url = \"http://apis.data.go.kr/1360000/VilageFcstInfoService_2.0/getUltraSrtNcst\"\n",
    "\n",
    "service_key = \"%2FppkSTx1wzLPizO0M4Z9gK1r31HR0ckPv%2FpgI6qQ84rFyyC5n7VkYjiMRN8F5uZ%2BpSPuntel9FUbNrKeZr36dw%3D%3D\"\n",
    "\n",
    "base_date = datetime.datetime.today().strftime(\"%Y%m%d\") # ex)20250113\n",
    "base_time = \"0800\" #기준시간\n",
    "nx = \"59\" #문래동\n",
    "ny = \"126\"\n",
    "\n",
    "payload = \"serviceKey=\" + service_key + \"&\" + \\\n",
    "          \"dataType=json\" + \"&\" + \\\n",
    "          \"base_date=\" + base_date + \"&\" + \\\n",
    "          \"base_time\" + base_time + \"&\" + \\\n",
    "          \"nx=\" + nx  + \"&\" + \\\n",
    "          \"ny=\" + ny\n",
    "pty_code = { \"0\": \"없음\", \"1\" : \"비\", \"2\" : \"비/눈\", \"3\" : \"눈\", \"4\" : \"소나기\", \"5\" : \"빗방울\", \"6\" : \"빗방울/눈날림\", \"7\" : \"눈날림\"}\n",
    "\n",
    "data = dict()\n",
    "data['date'] = base_date\n",
    "weather = dict()\n",
    "\n",
    "#값 요청\n",
    "res = requests.get(vilage_weather_url + payload)\n",
    "try:\n",
    "    items = res.json().get('response').get('body').get('items')\n",
    "    for item in items['item']:\n",
    "        #기온\n",
    "        if item['category'] == 'TMP':\n",
    "            weather['tmp'] = item['fcstValue']\n",
    "\n",
    "        #강수상태\n",
    "        if item['category'] == 'PTY':\n",
    "            weather['code'] = item['fcstValue']\n",
    "            weather['state'] = pty_code[item['fcstValue']]\n",
    "\n",
    "except:\n",
    "    print(\"날씨 정보 가져오기 실패: \", res.text)\n",
    "\n",
    "data['weather'] = weather\n",
    "print(data['weather'])"
   ]
  },
  {
   "cell_type": "code",
   "execution_count": null,
   "id": "695220ec-0928-4c99-ae49-e153ad3304fd",
   "metadata": {},
   "outputs": [],
   "source": []
  }
 ],
 "metadata": {
  "kernelspec": {
   "display_name": "Python 3 (ipykernel)",
   "language": "python",
   "name": "python3"
  },
  "language_info": {
   "codemirror_mode": {
    "name": "ipython",
    "version": 3
   },
   "file_extension": ".py",
   "mimetype": "text/x-python",
   "name": "python",
   "nbconvert_exporter": "python",
   "pygments_lexer": "ipython3",
   "version": "3.12.7"
  }
 },
 "nbformat": 4,
 "nbformat_minor": 5
}
